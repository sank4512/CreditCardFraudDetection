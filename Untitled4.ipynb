{
 "cells": [
  {
   "cell_type": "code",
   "execution_count": 3,
   "id": "95d94810-d5ba-4355-b674-6929d3105712",
   "metadata": {},
   "outputs": [
    {
     "name": "stderr",
     "output_type": "stream",
     "text": [
      "2024-07-01 12:22:50.726 \n",
      "  \u001b[33m\u001b[1mWarning:\u001b[0m to view this Streamlit app on a browser, run it with the following\n",
      "  command:\n",
      "\n",
      "    streamlit run C:\\Users\\sanketp\\anaconda3\\Lib\\site-packages\\ipykernel_launcher.py [ARGUMENTS]\n"
     ]
    }
   ],
   "source": [
    "import numpy as np\n",
    "import pandas as pd\n",
    "from sklearn.model_selection import train_test_split\n",
    "from sklearn.linear_model import LogisticRegression\n",
    "from sklearn.metrics import accuracy_score\n",
    "import streamlit as st\n",
    "\n",
    "# load data\n",
    "data = pd.read_csv('creditcard.csv')\n",
    "\n",
    "# separate legitimate and fraudulent transactions\n",
    "legit = data[data.Class == 0]\n",
    "fraud = data[data.Class == 1]\n",
    "\n",
    "# undersample legitimate transactions to balance the classes\n",
    "legit_sample = legit.sample(n=len(fraud), random_state=2)\n",
    "data = pd.concat([legit_sample, fraud], axis=0)\n",
    "\n",
    "# split data into training and testing sets\n",
    "X = data.drop(columns=\"Class\", axis=1)\n",
    "y = data[\"Class\"]\n",
    "X_train, X_test, y_train, y_test = train_test_split(X, y, test_size=0.2, stratify=y, random_state=2)\n",
    "\n",
    "# train logistic regression model\n",
    "model = LogisticRegression()\n",
    "model.fit(X_train, y_train)\n",
    "\n",
    "# evaluate model performance\n",
    "train_acc = accuracy_score(model.predict(X_train), y_train)\n",
    "test_acc = accuracy_score(model.predict(X_test), y_test)\n",
    "\n",
    "# create Streamlit app\n",
    "st.title(\"Credit Card Fraud Detection Model\")\n",
    "st.write(\"Enter the following features to check if the transaction is legitimate or fraudulent:\")\n",
    "\n",
    "# create input fields for user to enter feature values\n",
    "input_df = st.text_input('Input All features')\n",
    "input_df_lst = input_df.split(',')\n",
    "# create a button to submit input and get prediction\n",
    "submit = st.button(\"Submit\")\n",
    "\n",
    "if submit:\n",
    "    # get input feature values\n",
    "    features = np.array(input_df_lst, dtype=np.float64)\n",
    "    # make prediction\n",
    "    prediction = model.predict(features.reshape(1,-1))\n",
    "    # display result\n",
    "    if prediction[0] == 0:\n",
    "        st.write(\"Legitimate transaction\")\n",
    "    else:\n",
    "        st.write(\"Fraudulent transaction\")"
   ]
  },
  {
   "cell_type": "code",
   "execution_count": 4,
   "id": "3da3aab1-ae0b-4b87-a32a-09561706b4c8",
   "metadata": {},
   "outputs": [],
   "source": [
    "import numpy as np\n",
    "import pandas as pd\n",
    "from sklearn.model_selection import train_test_split\n",
    "from sklearn.linear_model import LogisticRegression\n",
    "from sklearn.metrics import accuracy_score\n",
    "import streamlit as st"
   ]
  },
  {
   "cell_type": "code",
   "execution_count": 5,
   "id": "b2f0e88c-a3b3-4f66-bb28-2fa323f41fe0",
   "metadata": {},
   "outputs": [],
   "source": [
    "# load data\n",
    "data = pd.read_csv('creditcard.csv')"
   ]
  },
  {
   "cell_type": "code",
   "execution_count": 6,
   "id": "5c511a03-1992-4711-bcc7-6b542132633a",
   "metadata": {},
   "outputs": [],
   "source": [
    "legit = data[data.Class == 0]\n",
    "fraud = data[data.Class == 1]\n",
    "\n",
    "# undersample legitimate transactions to balance the classes\n",
    "legit_sample = legit.sample(n=len(fraud), random_state=2)\n",
    "data = pd.concat([legit_sample, fraud], axis=0)\n"
   ]
  },
  {
   "cell_type": "code",
   "execution_count": 7,
   "id": "00b388bc-1f0b-4fed-906e-83b738dcc6a5",
   "metadata": {},
   "outputs": [],
   "source": [
    "X = data.drop(columns=\"Class\", axis=1)\n",
    "y = data[\"Class\"]\n",
    "X_train, X_test, y_train, y_test = train_test_split(X, y, test_size=0.2, stratify=y, random_state=2)\n"
   ]
  },
  {
   "cell_type": "code",
   "execution_count": 8,
   "id": "baeb2ff9-6a74-47e0-a9f3-ff4593b0b05b",
   "metadata": {},
   "outputs": [
    {
     "data": {
      "text/html": [
       "<style>#sk-container-id-1 {color: black;background-color: white;}#sk-container-id-1 pre{padding: 0;}#sk-container-id-1 div.sk-toggleable {background-color: white;}#sk-container-id-1 label.sk-toggleable__label {cursor: pointer;display: block;width: 100%;margin-bottom: 0;padding: 0.3em;box-sizing: border-box;text-align: center;}#sk-container-id-1 label.sk-toggleable__label-arrow:before {content: \"▸\";float: left;margin-right: 0.25em;color: #696969;}#sk-container-id-1 label.sk-toggleable__label-arrow:hover:before {color: black;}#sk-container-id-1 div.sk-estimator:hover label.sk-toggleable__label-arrow:before {color: black;}#sk-container-id-1 div.sk-toggleable__content {max-height: 0;max-width: 0;overflow: hidden;text-align: left;background-color: #f0f8ff;}#sk-container-id-1 div.sk-toggleable__content pre {margin: 0.2em;color: black;border-radius: 0.25em;background-color: #f0f8ff;}#sk-container-id-1 input.sk-toggleable__control:checked~div.sk-toggleable__content {max-height: 200px;max-width: 100%;overflow: auto;}#sk-container-id-1 input.sk-toggleable__control:checked~label.sk-toggleable__label-arrow:before {content: \"▾\";}#sk-container-id-1 div.sk-estimator input.sk-toggleable__control:checked~label.sk-toggleable__label {background-color: #d4ebff;}#sk-container-id-1 div.sk-label input.sk-toggleable__control:checked~label.sk-toggleable__label {background-color: #d4ebff;}#sk-container-id-1 input.sk-hidden--visually {border: 0;clip: rect(1px 1px 1px 1px);clip: rect(1px, 1px, 1px, 1px);height: 1px;margin: -1px;overflow: hidden;padding: 0;position: absolute;width: 1px;}#sk-container-id-1 div.sk-estimator {font-family: monospace;background-color: #f0f8ff;border: 1px dotted black;border-radius: 0.25em;box-sizing: border-box;margin-bottom: 0.5em;}#sk-container-id-1 div.sk-estimator:hover {background-color: #d4ebff;}#sk-container-id-1 div.sk-parallel-item::after {content: \"\";width: 100%;border-bottom: 1px solid gray;flex-grow: 1;}#sk-container-id-1 div.sk-label:hover label.sk-toggleable__label {background-color: #d4ebff;}#sk-container-id-1 div.sk-serial::before {content: \"\";position: absolute;border-left: 1px solid gray;box-sizing: border-box;top: 0;bottom: 0;left: 50%;z-index: 0;}#sk-container-id-1 div.sk-serial {display: flex;flex-direction: column;align-items: center;background-color: white;padding-right: 0.2em;padding-left: 0.2em;position: relative;}#sk-container-id-1 div.sk-item {position: relative;z-index: 1;}#sk-container-id-1 div.sk-parallel {display: flex;align-items: stretch;justify-content: center;background-color: white;position: relative;}#sk-container-id-1 div.sk-item::before, #sk-container-id-1 div.sk-parallel-item::before {content: \"\";position: absolute;border-left: 1px solid gray;box-sizing: border-box;top: 0;bottom: 0;left: 50%;z-index: -1;}#sk-container-id-1 div.sk-parallel-item {display: flex;flex-direction: column;z-index: 1;position: relative;background-color: white;}#sk-container-id-1 div.sk-parallel-item:first-child::after {align-self: flex-end;width: 50%;}#sk-container-id-1 div.sk-parallel-item:last-child::after {align-self: flex-start;width: 50%;}#sk-container-id-1 div.sk-parallel-item:only-child::after {width: 0;}#sk-container-id-1 div.sk-dashed-wrapped {border: 1px dashed gray;margin: 0 0.4em 0.5em 0.4em;box-sizing: border-box;padding-bottom: 0.4em;background-color: white;}#sk-container-id-1 div.sk-label label {font-family: monospace;font-weight: bold;display: inline-block;line-height: 1.2em;}#sk-container-id-1 div.sk-label-container {text-align: center;}#sk-container-id-1 div.sk-container {/* jupyter's `normalize.less` sets `[hidden] { display: none; }` but bootstrap.min.css set `[hidden] { display: none !important; }` so we also need the `!important` here to be able to override the default hidden behavior on the sphinx rendered scikit-learn.org. See: https://github.com/scikit-learn/scikit-learn/issues/21755 */display: inline-block !important;position: relative;}#sk-container-id-1 div.sk-text-repr-fallback {display: none;}</style><div id=\"sk-container-id-1\" class=\"sk-top-container\"><div class=\"sk-text-repr-fallback\"><pre>LogisticRegression()</pre><b>In a Jupyter environment, please rerun this cell to show the HTML representation or trust the notebook. <br />On GitHub, the HTML representation is unable to render, please try loading this page with nbviewer.org.</b></div><div class=\"sk-container\" hidden><div class=\"sk-item\"><div class=\"sk-estimator sk-toggleable\"><input class=\"sk-toggleable__control sk-hidden--visually\" id=\"sk-estimator-id-1\" type=\"checkbox\" checked><label for=\"sk-estimator-id-1\" class=\"sk-toggleable__label sk-toggleable__label-arrow\">LogisticRegression</label><div class=\"sk-toggleable__content\"><pre>LogisticRegression()</pre></div></div></div></div></div>"
      ],
      "text/plain": [
       "LogisticRegression()"
      ]
     },
     "execution_count": 8,
     "metadata": {},
     "output_type": "execute_result"
    }
   ],
   "source": [
    "model = LogisticRegression()\n",
    "model.fit(X_train, y_train)"
   ]
  },
  {
   "cell_type": "code",
   "execution_count": 9,
   "id": "c7975be2-d321-437d-b91b-7304f8597521",
   "metadata": {},
   "outputs": [],
   "source": [
    "train_acc = accuracy_score(model.predict(X_train), y_train)\n",
    "test_acc = accuracy_score(model.predict(X_test), y_test)\n"
   ]
  },
  {
   "cell_type": "code",
   "execution_count": 10,
   "id": "ee184f11-5c03-42c7-be6c-81ef3674ec59",
   "metadata": {},
   "outputs": [],
   "source": [
    "\n",
    "# create Streamlit app\n",
    "st.title(\"Credit Card Fraud Detection Model\")\n",
    "st.write(\"Enter the following features to check if the transaction is legitimate or fraudulent:\")"
   ]
  },
  {
   "cell_type": "code",
   "execution_count": 11,
   "id": "676e396e-5061-4cfb-b61c-cc7bb3af323f",
   "metadata": {},
   "outputs": [],
   "source": [
    "input_df = st.text_input('Input All features')\n",
    "input_df_lst = input_df.split(',')\n",
    "# create a button to submit input and get prediction\n",
    "submit = st.button(\"Submit\")"
   ]
  },
  {
   "cell_type": "code",
   "execution_count": 12,
   "id": "bb43a097-b9c4-48cd-b89e-6e4439842f38",
   "metadata": {},
   "outputs": [],
   "source": [
    "if submit:\n",
    "    # get input feature values\n",
    "    features = np.array(input_df_lst, dtype=np.float64)\n",
    "    # make prediction\n",
    "    prediction = model.predict(features.reshape(1,-1))\n",
    "    # display result\n",
    "    if prediction[0] == 0:\n",
    "        st.write(\"Legitimate transaction\")\n",
    "    else:\n",
    "        st.write(\"Fraudulent transaction\")"
   ]
  },
  {
   "cell_type": "code",
   "execution_count": null,
   "id": "4564f5d2-baf1-46bf-bd16-e951d77c19dd",
   "metadata": {},
   "outputs": [],
   "source": []
  }
 ],
 "metadata": {
  "kernelspec": {
   "display_name": "Python 3 (ipykernel)",
   "language": "python",
   "name": "python3"
  },
  "language_info": {
   "codemirror_mode": {
    "name": "ipython",
    "version": 3
   },
   "file_extension": ".py",
   "mimetype": "text/x-python",
   "name": "python",
   "nbconvert_exporter": "python",
   "pygments_lexer": "ipython3",
   "version": "3.11.7"
  }
 },
 "nbformat": 4,
 "nbformat_minor": 5
}
